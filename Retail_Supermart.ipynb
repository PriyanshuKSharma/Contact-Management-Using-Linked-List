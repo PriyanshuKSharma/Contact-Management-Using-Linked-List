{
  "nbformat": 4,
  "nbformat_minor": 0,
  "metadata": {
    "colab": {
      "provenance": [],
      "include_colab_link": true
    },
    "kernelspec": {
      "name": "python3",
      "display_name": "Python 3"
    },
    "language_info": {
      "name": "python"
    }
  },
  "cells": [
    {
      "cell_type": "markdown",
      "metadata": {
        "id": "view-in-github",
        "colab_type": "text"
      },
      "source": [
        "<a href=\"https://colab.research.google.com/github/PriyanshuKSharma/Contact-Management-Using-Linked-List/blob/master/Retail_Supermart.ipynb\" target=\"_parent\"><img src=\"https://colab.research.google.com/assets/colab-badge.svg\" alt=\"Open In Colab\"/></a>"
      ]
    },
    {
      "cell_type": "code",
      "execution_count": null,
      "metadata": {
        "id": "5vNWfHyjt56N"
      },
      "outputs": [],
      "source": [
        "import numpy as np # linear algebra\n",
        "import pandas as pd # data processing, CSV file\n",
        "\n",
        "# Data Visualisation\n",
        "import matplotlib.pyplot as plt\n",
        "import seaborn as sns"
      ]
    },
    {
      "cell_type": "code",
      "source": [
        "!wget https://www.dropbox.com/scl/fi/y8fjteq67psqf177lvjz7/retailData.csv?rlkey=bs6x9udsrevc2369ibades77h -O 'retailData.csv'"
      ],
      "metadata": {
        "id": "U38rMOwNuZJm"
      },
      "execution_count": null,
      "outputs": []
    },
    {
      "cell_type": "code",
      "source": [
        "# reading csv file\n",
        "df = pd.read_csv(\"retailData.csv\")\n",
        "df.head()"
      ],
      "metadata": {
        "id": "DEBjpy5vuSkG"
      },
      "execution_count": null,
      "outputs": []
    },
    {
      "cell_type": "code",
      "source": [
        "# rows and cols\n",
        "df.shape"
      ],
      "metadata": {
        "id": "4r7H67oFuiVQ"
      },
      "execution_count": null,
      "outputs": []
    },
    {
      "cell_type": "code",
      "source": [
        "df.info()"
      ],
      "metadata": {
        "id": "nrGga2AovDRt"
      },
      "execution_count": null,
      "outputs": []
    },
    {
      "cell_type": "code",
      "source": [
        "# check for the Missing Values.\n",
        "df.isnull().sum()"
      ],
      "metadata": {
        "id": "8rLY8uOqvIBC"
      },
      "execution_count": null,
      "outputs": []
    },
    {
      "cell_type": "code",
      "source": [
        "# deleting the column\n",
        "df.drop([\"Postal Code\"], axis=1,inplace= True)"
      ],
      "metadata": {
        "id": "2YQ2h2EzypCL"
      },
      "execution_count": null,
      "outputs": []
    },
    {
      "cell_type": "code",
      "source": [
        "df.head()"
      ],
      "metadata": {
        "id": "vQwtGGj8yq3e"
      },
      "execution_count": null,
      "outputs": []
    },
    {
      "cell_type": "code",
      "source": [],
      "metadata": {
        "id": "wzlatsJmytHS"
      },
      "execution_count": null,
      "outputs": []
    },
    {
      "cell_type": "code",
      "source": [
        "# types of shipping mode\n",
        "df['Ship Mode'].value_counts()"
      ],
      "metadata": {
        "id": "tTCBlEZzvirX"
      },
      "execution_count": null,
      "outputs": []
    },
    {
      "cell_type": "code",
      "source": [
        "# viz\n",
        "df['Ship Mode'].value_counts().plot(kind = 'bar')"
      ],
      "metadata": {
        "id": "XYQTJNshvx1s"
      },
      "execution_count": null,
      "outputs": []
    },
    {
      "cell_type": "code",
      "source": [
        "df['Segment'].value_counts().plot(kind = 'bar')"
      ],
      "metadata": {
        "id": "tsKfMZKpv1sR"
      },
      "execution_count": null,
      "outputs": []
    },
    {
      "cell_type": "code",
      "source": [
        "df['Category'].value_counts().plot(kind = 'bar')"
      ],
      "metadata": {
        "id": "mEQhONx0v1oP"
      },
      "execution_count": null,
      "outputs": []
    },
    {
      "cell_type": "code",
      "source": [
        "df['Sub-Category'].value_counts().plot(kind = 'bar')"
      ],
      "metadata": {
        "id": "45l3uO95vuvh"
      },
      "execution_count": null,
      "outputs": []
    },
    {
      "cell_type": "code",
      "source": [],
      "metadata": {
        "id": "obrFebAywH80"
      },
      "execution_count": null,
      "outputs": []
    },
    {
      "cell_type": "markdown",
      "source": [
        "### Histogram"
      ],
      "metadata": {
        "id": "A0zBz8QG8pDD"
      }
    },
    {
      "cell_type": "code",
      "source": [
        "sns.histplot(data = df, x = 'Sales',bins = 150);"
      ],
      "metadata": {
        "id": "rKurHG05wbOG"
      },
      "execution_count": null,
      "outputs": []
    },
    {
      "cell_type": "code",
      "source": [
        "sns.histplot(data = df, x = 'Profit',bins = 100);"
      ],
      "metadata": {
        "id": "wCVe5-PCwmN0"
      },
      "execution_count": null,
      "outputs": []
    },
    {
      "cell_type": "code",
      "source": [
        "sns.histplot(data = df, x = 'Discount',bins = 20);"
      ],
      "metadata": {
        "id": "yzT1fbdbw1yW"
      },
      "execution_count": null,
      "outputs": []
    },
    {
      "cell_type": "markdown",
      "source": [
        "## BoxPlot"
      ],
      "metadata": {
        "id": "GEgiIbxT9eyy"
      }
    },
    {
      "cell_type": "code",
      "source": [
        "sns.boxplot(data = df, y = 'Sales', x = 'Category');"
      ],
      "metadata": {
        "id": "6dwP5LzgyOVN"
      },
      "execution_count": null,
      "outputs": []
    },
    {
      "cell_type": "code",
      "source": [
        "plt.figure(figsize = (6, 20))\n",
        "sns.boxplot(data = df, y = 'Sales', x = 'Category');"
      ],
      "metadata": {
        "id": "4p2SC7SExF8B"
      },
      "execution_count": null,
      "outputs": []
    },
    {
      "cell_type": "code",
      "source": [
        "plt.figure(figsize = (6, 20))\n",
        "sns.boxplot(data = df, y = 'Profit', x = 'Category');"
      ],
      "metadata": {
        "id": "gl5VbG_Tx8DH"
      },
      "execution_count": null,
      "outputs": []
    },
    {
      "cell_type": "code",
      "source": [
        "df.describe()"
      ],
      "metadata": {
        "id": "wpChiqEbySg3"
      },
      "execution_count": null,
      "outputs": []
    },
    {
      "cell_type": "code",
      "source": [],
      "metadata": {
        "id": "qfYbYK6dyalb"
      },
      "execution_count": null,
      "outputs": []
    },
    {
      "cell_type": "markdown",
      "source": [
        "## Grouping"
      ],
      "metadata": {
        "id": "LLMAAr9o9qAi"
      }
    },
    {
      "cell_type": "code",
      "source": [
        "city_profit = df.groupby(\"City\")['Profit'].sum().sort_values(ascending=False).reset_index()[:10]\n",
        "city_profit"
      ],
      "metadata": {
        "id": "jUdCLyeyzR9m"
      },
      "execution_count": null,
      "outputs": []
    },
    {
      "cell_type": "code",
      "source": [
        "sns.barplot(data = city_profit, y = 'City', x= 'Profit');"
      ],
      "metadata": {
        "id": "x7NsuXBizR7j"
      },
      "execution_count": null,
      "outputs": []
    },
    {
      "cell_type": "code",
      "source": [],
      "metadata": {
        "id": "D-vBg_hazR5Z"
      },
      "execution_count": null,
      "outputs": []
    },
    {
      "cell_type": "code",
      "source": [
        "plt.figure(figsize=(10, 8))\n",
        "\n",
        "state_profit = df.groupby(\"State\")['Profit'].sum().sort_values(ascending=False).reset_index()\n",
        "\n",
        "sns.barplot(data = state_profit, y = 'State', x= 'Profit');"
      ],
      "metadata": {
        "id": "wdafwuuezR3W"
      },
      "execution_count": null,
      "outputs": []
    },
    {
      "cell_type": "code",
      "source": [],
      "metadata": {
        "id": "d-icl-311kEH"
      },
      "execution_count": null,
      "outputs": []
    },
    {
      "cell_type": "code",
      "source": [
        "state_info = df.groupby(\"State\")[[\"Sales\",\"Profit\"]].sum().sort_values(by=\"Sales\", ascending=False)[:10]\n",
        "state_info"
      ],
      "metadata": {
        "id": "X4FpxwQ01kBs"
      },
      "execution_count": null,
      "outputs": []
    },
    {
      "cell_type": "code",
      "source": [
        "state_info.plot.bar(color = [\"Green\",\"Red\"], figsize=(12,6))"
      ],
      "metadata": {
        "id": "CWB3bo0c1j_K"
      },
      "execution_count": null,
      "outputs": []
    },
    {
      "cell_type": "code",
      "source": [],
      "metadata": {
        "id": "oOHvzqFh4YXm"
      },
      "execution_count": null,
      "outputs": []
    },
    {
      "cell_type": "code",
      "source": [
        "region_info = df.groupby(\"Region\")[[\"Sales\",\"Profit\"]].sum().sort_values(by=\"Sales\", ascending=False)\n",
        "region_info"
      ],
      "metadata": {
        "id": "Qfcc1jNX1wOK"
      },
      "execution_count": null,
      "outputs": []
    },
    {
      "cell_type": "code",
      "source": [
        "region_info.plot.bar(color = [\"Green\",\"Red\"], figsize=(12,6))"
      ],
      "metadata": {
        "id": "R7l_Wqnm2egh"
      },
      "execution_count": null,
      "outputs": []
    },
    {
      "cell_type": "code",
      "source": [],
      "metadata": {
        "id": "mqDqWXBV31Rj"
      },
      "execution_count": null,
      "outputs": []
    },
    {
      "cell_type": "code",
      "source": [
        "# Category wise Sales.\n",
        "\n",
        "sns.barplot(data = df, y = 'Sales', x= 'Category')"
      ],
      "metadata": {
        "id": "bw3XPMQ72ed-"
      },
      "execution_count": null,
      "outputs": []
    },
    {
      "cell_type": "code",
      "source": [
        "# Categories wise Profit.\n",
        "sns.barplot(data = df, y = 'Profit', x= 'Category')"
      ],
      "metadata": {
        "id": "HjuaWQIG1wL4"
      },
      "execution_count": null,
      "outputs": []
    },
    {
      "cell_type": "code",
      "source": [
        "sub_category = df.groupby('Sub-Category')['Sales'].sum().sort_values().reset_index()\n",
        "sub_category[:10]"
      ],
      "metadata": {
        "id": "hLQ-qScX1wHL"
      },
      "execution_count": null,
      "outputs": []
    },
    {
      "cell_type": "code",
      "source": [
        "sns.barplot(data=sub_category, x='Sub-Category', y='Sales')\n",
        "plt.xticks(rotation = 90)\n",
        "plt.title('Sales by Sub-Category');"
      ],
      "metadata": {
        "id": "4Nygha1z20Ib"
      },
      "execution_count": null,
      "outputs": []
    },
    {
      "cell_type": "code",
      "source": [],
      "metadata": {
        "id": "ZvEmwHS_20GR"
      },
      "execution_count": null,
      "outputs": []
    },
    {
      "cell_type": "code",
      "source": [
        "sns.lineplot(data=df, x=\"Discount\", y= \"Profit\")"
      ],
      "metadata": {
        "id": "-Fw6H27M0ja8"
      },
      "execution_count": null,
      "outputs": []
    },
    {
      "cell_type": "code",
      "source": [],
      "metadata": {
        "id": "9GBK2n9V0jY5"
      },
      "execution_count": null,
      "outputs": []
    },
    {
      "cell_type": "code",
      "source": [
        "df.corr()"
      ],
      "metadata": {
        "id": "JBE3af8_zC7q"
      },
      "execution_count": null,
      "outputs": []
    },
    {
      "cell_type": "code",
      "source": [
        "sns.heatmap(df.corr(), annot = True);"
      ],
      "metadata": {
        "id": "WzyFnkAMzC5H"
      },
      "execution_count": null,
      "outputs": []
    },
    {
      "cell_type": "code",
      "source": [],
      "metadata": {
        "id": "u_JUbaQNzC2e"
      },
      "execution_count": null,
      "outputs": []
    },
    {
      "cell_type": "code",
      "source": [],
      "metadata": {
        "id": "_f1SOIxf3bk5"
      },
      "execution_count": null,
      "outputs": []
    },
    {
      "cell_type": "code",
      "source": [],
      "metadata": {
        "id": "VzGRE6uL3bgd"
      },
      "execution_count": null,
      "outputs": []
    }
  ]
}